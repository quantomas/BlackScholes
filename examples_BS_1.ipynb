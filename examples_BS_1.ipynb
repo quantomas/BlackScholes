{
 "cells": [
  {
   "cell_type": "code",
   "execution_count": 4,
   "metadata": {},
   "outputs": [],
   "source": [
    "# @author: quantomas\n",
    "# original code: The Python Quants\n",
    "\n",
    "\n",
    "## Black-Scholes-Merton Option Pricing\n",
    "\n",
    "# Libs\n",
    "import numpy as np\n",
    "np.set_printoptions(precision=5)\n",
    "\n",
    "import math\n",
    "from pylab import mpl, plt\n"
   ]
  },
  {
   "cell_type": "markdown",
   "metadata": {},
   "source": [
    "zufällige Stichprobe der Geometrischen brownschen Bewegung zum gegebenen festen Zeitpunkt T, also die Randverteilung. Diese Randverteilung ist die Logarithmische Normalverteilung."
   ]
  },
  {
   "cell_type": "code",
   "execution_count": 5,
   "metadata": {},
   "outputs": [],
   "source": [
    "S0 = 100\n",
    "r = 0.05\n",
    "sigma = 0.2\n",
    "T = 1.0\n",
    "# I = 10000\n",
    "I = 1000000\n",
    "\n",
    "# np.random.seed(100)\n",
    "\n",
    "ST = S0 * np.exp((r - sigma ** 2 / 2) * T +\n",
    "     sigma * math.sqrt(T) * np.random.standard_normal(I))\n"
   ]
  },
  {
   "cell_type": "markdown",
   "metadata": {},
   "source": [
    "Der empirische Erwartungswert des Stichprobe ST versus den theoretischen:"
   ]
  },
  {
   "cell_type": "code",
   "execution_count": 6,
   "metadata": {},
   "outputs": [
    {
     "name": "stdout",
     "output_type": "stream",
     "text": [
      "[ 87.5 106.4 101.2  87.2  88.   96.4 103.5  90.6]\n",
      "105.10164162849007\n",
      "105.12710963760242\n"
     ]
    }
   ],
   "source": [
    "print(ST[:8].round(1))\n",
    "\n",
    "print(ST.mean())\n",
    "print(S0 * math.exp(r * T))\n"
   ]
  },
  {
   "cell_type": "code",
   "execution_count": null,
   "metadata": {},
   "outputs": [],
   "source": []
  }
 ],
 "metadata": {
  "kernelspec": {
   "display_name": "Python 3",
   "language": "python",
   "name": "python3"
  },
  "language_info": {
   "codemirror_mode": {
    "name": "ipython",
    "version": 3
   },
   "file_extension": ".py",
   "mimetype": "text/x-python",
   "name": "python",
   "nbconvert_exporter": "python",
   "pygments_lexer": "ipython3",
   "version": "3.7.3"
  }
 },
 "nbformat": 4,
 "nbformat_minor": 2
}
