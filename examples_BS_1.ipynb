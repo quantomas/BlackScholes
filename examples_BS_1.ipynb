{
 "cells": [
  {
   "cell_type": "code",
   "execution_count": 1,
   "metadata": {},
   "outputs": [],
   "source": [
    "# @author: quantomas\n",
    "# original code: The Python Quants\n",
    "\n",
    "\n",
    "## Black-Scholes-Merton Option Pricing\n",
    "\n",
    "# Libs\n",
    "import numpy as np\n",
    "np.set_printoptions(precision=5)\n",
    "\n",
    "import math\n",
    "from pylab import mpl, plt\n"
   ]
  },
  {
   "cell_type": "code",
   "execution_count": 2,
   "metadata": {},
   "outputs": [],
   "source": [
    "S0 = 100\n",
    "r = 0.05\n",
    "sigma = 0.2\n",
    "T = 1.0\n",
    "# I = 10000\n",
    "I = 1000000\n",
    "\n",
    "# np.random.seed(100)\n",
    "\n",
    "ST = S0 * np.exp((r - sigma ** 2 / 2) * T +\n",
    "     sigma * math.sqrt(T) * np.random.standard_normal(I))\n"
   ]
  },
  {
   "cell_type": "code",
   "execution_count": 9,
   "metadata": {},
   "outputs": [
    {
     "name": "stdout",
     "output_type": "stream",
     "text": [
      "[ 69.9  99.2  78.1  89.8 118.9 116.4 106.2  95.9]\n",
      "105.1111158798566\n",
      "105.12710963760242\n"
     ]
    }
   ],
   "source": [
    "print(ST[:8].round(1))\n",
    "\n",
    "print(ST.mean())\n",
    "print(S0 * math.exp(r * T))\n"
   ]
  },
  {
   "cell_type": "code",
   "execution_count": null,
   "metadata": {},
   "outputs": [],
   "source": []
  }
 ],
 "metadata": {
  "kernelspec": {
   "display_name": "Python 3",
   "language": "python",
   "name": "python3"
  },
  "language_info": {
   "codemirror_mode": {
    "name": "ipython",
    "version": 3
   },
   "file_extension": ".py",
   "mimetype": "text/x-python",
   "name": "python",
   "nbconvert_exporter": "python",
   "pygments_lexer": "ipython3",
   "version": "3.7.3"
  }
 },
 "nbformat": 4,
 "nbformat_minor": 2
}
